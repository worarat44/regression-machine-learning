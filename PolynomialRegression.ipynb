{
 "cells": [
  {
   "cell_type": "code",
   "execution_count": 237,
   "id": "ff3b6d81",
   "metadata": {},
   "outputs": [],
   "source": [
    "import pandas as pd\n",
    "import seaborn as sns\n",
    "import numpy as np\n",
    "import matplotlib.pyplot as plt\n",
    "%matplotlib inline\n",
    "%config InlineBackend.figure_format = 'retina'"
   ]
  },
  {
   "cell_type": "code",
   "execution_count": 238,
   "id": "bd0c32e7",
   "metadata": {},
   "outputs": [
    {
     "name": "stdout",
     "output_type": "stream",
     "text": [
      "pandas  version: 1.4.2\n",
      "numpy   version: 1.22.3\n",
      "seaborn version: 0.11.2\n"
     ]
    }
   ],
   "source": [
    "print(f'pandas  version: {pd.__version__}')\n",
    "print(f'numpy   version: {np.__version__}')\n",
    "print(f'seaborn version: {sns.__version__}')"
   ]
  },
  {
   "cell_type": "code",
   "execution_count": 239,
   "id": "7a6cde04",
   "metadata": {},
   "outputs": [
    {
     "data": {
      "text/html": [
       "<div>\n",
       "<style scoped>\n",
       "    .dataframe tbody tr th:only-of-type {\n",
       "        vertical-align: middle;\n",
       "    }\n",
       "\n",
       "    .dataframe tbody tr th {\n",
       "        vertical-align: top;\n",
       "    }\n",
       "\n",
       "    .dataframe thead th {\n",
       "        text-align: right;\n",
       "    }\n",
       "</style>\n",
       "<table border=\"1\" class=\"dataframe\">\n",
       "  <thead>\n",
       "    <tr style=\"text-align: right;\">\n",
       "      <th></th>\n",
       "      <th>Entity</th>\n",
       "      <th>Code</th>\n",
       "      <th>Year</th>\n",
       "      <th>GDPpercapita</th>\n",
       "      <th>Unnamed: 4</th>\n",
       "    </tr>\n",
       "  </thead>\n",
       "  <tbody>\n",
       "    <tr>\n",
       "      <th>0</th>\n",
       "      <td>Afghanistan</td>\n",
       "      <td>AFG</td>\n",
       "      <td>1950</td>\n",
       "      <td>1156.0000</td>\n",
       "      <td>NaN</td>\n",
       "    </tr>\n",
       "    <tr>\n",
       "      <th>1</th>\n",
       "      <td>Afghanistan</td>\n",
       "      <td>AFG</td>\n",
       "      <td>1951</td>\n",
       "      <td>1170.0000</td>\n",
       "      <td>NaN</td>\n",
       "    </tr>\n",
       "    <tr>\n",
       "      <th>2</th>\n",
       "      <td>Afghanistan</td>\n",
       "      <td>AFG</td>\n",
       "      <td>1952</td>\n",
       "      <td>1189.0000</td>\n",
       "      <td>NaN</td>\n",
       "    </tr>\n",
       "    <tr>\n",
       "      <th>3</th>\n",
       "      <td>Afghanistan</td>\n",
       "      <td>AFG</td>\n",
       "      <td>1953</td>\n",
       "      <td>1240.0000</td>\n",
       "      <td>NaN</td>\n",
       "    </tr>\n",
       "    <tr>\n",
       "      <th>4</th>\n",
       "      <td>Afghanistan</td>\n",
       "      <td>AFG</td>\n",
       "      <td>1954</td>\n",
       "      <td>1245.0000</td>\n",
       "      <td>NaN</td>\n",
       "    </tr>\n",
       "    <tr>\n",
       "      <th>...</th>\n",
       "      <td>...</td>\n",
       "      <td>...</td>\n",
       "      <td>...</td>\n",
       "      <td>...</td>\n",
       "      <td>...</td>\n",
       "    </tr>\n",
       "    <tr>\n",
       "      <th>19871</th>\n",
       "      <td>Zimbabwe</td>\n",
       "      <td>ZWE</td>\n",
       "      <td>2014</td>\n",
       "      <td>1594.0000</td>\n",
       "      <td>NaN</td>\n",
       "    </tr>\n",
       "    <tr>\n",
       "      <th>19872</th>\n",
       "      <td>Zimbabwe</td>\n",
       "      <td>ZWE</td>\n",
       "      <td>2015</td>\n",
       "      <td>1560.0000</td>\n",
       "      <td>NaN</td>\n",
       "    </tr>\n",
       "    <tr>\n",
       "      <th>19873</th>\n",
       "      <td>Zimbabwe</td>\n",
       "      <td>ZWE</td>\n",
       "      <td>2016</td>\n",
       "      <td>1534.0000</td>\n",
       "      <td>NaN</td>\n",
       "    </tr>\n",
       "    <tr>\n",
       "      <th>19874</th>\n",
       "      <td>Zimbabwe</td>\n",
       "      <td>ZWE</td>\n",
       "      <td>2017</td>\n",
       "      <td>1582.3662</td>\n",
       "      <td>NaN</td>\n",
       "    </tr>\n",
       "    <tr>\n",
       "      <th>19875</th>\n",
       "      <td>Zimbabwe</td>\n",
       "      <td>ZWE</td>\n",
       "      <td>2018</td>\n",
       "      <td>1611.4052</td>\n",
       "      <td>NaN</td>\n",
       "    </tr>\n",
       "  </tbody>\n",
       "</table>\n",
       "<p>19876 rows × 5 columns</p>\n",
       "</div>"
      ],
      "text/plain": [
       "            Entity Code  Year  GDPpercapita Unnamed: 4\n",
       "0      Afghanistan  AFG  1950     1156.0000        NaN\n",
       "1      Afghanistan  AFG  1951     1170.0000        NaN\n",
       "2      Afghanistan  AFG  1952     1189.0000        NaN\n",
       "3      Afghanistan  AFG  1953     1240.0000        NaN\n",
       "4      Afghanistan  AFG  1954     1245.0000        NaN\n",
       "...            ...  ...   ...           ...        ...\n",
       "19871     Zimbabwe  ZWE  2014     1594.0000        NaN\n",
       "19872     Zimbabwe  ZWE  2015     1560.0000        NaN\n",
       "19873     Zimbabwe  ZWE  2016     1534.0000        NaN\n",
       "19874     Zimbabwe  ZWE  2017     1582.3662        NaN\n",
       "19875     Zimbabwe  ZWE  2018     1611.4052        NaN\n",
       "\n",
       "[19876 rows x 5 columns]"
      ]
     },
     "execution_count": 239,
     "metadata": {},
     "output_type": "execute_result"
    }
   ],
   "source": [
    "# การดึงข้อมูลด้วย import pandas as pd (pd.read_csv) แล้วนำไปเก็บไว้ในตัวแปร df\n",
    "df = pd.read_csv('gdp-per-capita2.csv')\n",
    "df"
   ]
  },
  {
   "cell_type": "code",
   "execution_count": 240,
   "id": "2c56c223",
   "metadata": {},
   "outputs": [
    {
     "data": {
      "text/html": [
       "<div>\n",
       "<style scoped>\n",
       "    .dataframe tbody tr th:only-of-type {\n",
       "        vertical-align: middle;\n",
       "    }\n",
       "\n",
       "    .dataframe tbody tr th {\n",
       "        vertical-align: top;\n",
       "    }\n",
       "\n",
       "    .dataframe thead th {\n",
       "        text-align: right;\n",
       "    }\n",
       "</style>\n",
       "<table border=\"1\" class=\"dataframe\">\n",
       "  <thead>\n",
       "    <tr style=\"text-align: right;\">\n",
       "      <th></th>\n",
       "      <th>Entity</th>\n",
       "      <th>Code</th>\n",
       "      <th>Year</th>\n",
       "      <th>GDPpercapita</th>\n",
       "    </tr>\n",
       "  </thead>\n",
       "  <tbody>\n",
       "    <tr>\n",
       "      <th>17326</th>\n",
       "      <td>Thailand</td>\n",
       "      <td>THA</td>\n",
       "      <td>1820</td>\n",
       "      <td>909.000</td>\n",
       "    </tr>\n",
       "    <tr>\n",
       "      <th>17327</th>\n",
       "      <td>Thailand</td>\n",
       "      <td>THA</td>\n",
       "      <td>1870</td>\n",
       "      <td>969.000</td>\n",
       "    </tr>\n",
       "    <tr>\n",
       "      <th>17328</th>\n",
       "      <td>Thailand</td>\n",
       "      <td>THA</td>\n",
       "      <td>1890</td>\n",
       "      <td>1250.000</td>\n",
       "    </tr>\n",
       "    <tr>\n",
       "      <th>17329</th>\n",
       "      <td>Thailand</td>\n",
       "      <td>THA</td>\n",
       "      <td>1913</td>\n",
       "      <td>1341.000</td>\n",
       "    </tr>\n",
       "    <tr>\n",
       "      <th>17330</th>\n",
       "      <td>Thailand</td>\n",
       "      <td>THA</td>\n",
       "      <td>1929</td>\n",
       "      <td>1264.000</td>\n",
       "    </tr>\n",
       "    <tr>\n",
       "      <th>...</th>\n",
       "      <td>...</td>\n",
       "      <td>...</td>\n",
       "      <td>...</td>\n",
       "      <td>...</td>\n",
       "    </tr>\n",
       "    <tr>\n",
       "      <th>17396</th>\n",
       "      <td>Thailand</td>\n",
       "      <td>THA</td>\n",
       "      <td>2014</td>\n",
       "      <td>14642.000</td>\n",
       "    </tr>\n",
       "    <tr>\n",
       "      <th>17397</th>\n",
       "      <td>Thailand</td>\n",
       "      <td>THA</td>\n",
       "      <td>2015</td>\n",
       "      <td>15020.000</td>\n",
       "    </tr>\n",
       "    <tr>\n",
       "      <th>17398</th>\n",
       "      <td>Thailand</td>\n",
       "      <td>THA</td>\n",
       "      <td>2016</td>\n",
       "      <td>15454.000</td>\n",
       "    </tr>\n",
       "    <tr>\n",
       "      <th>17399</th>\n",
       "      <td>Thailand</td>\n",
       "      <td>THA</td>\n",
       "      <td>2017</td>\n",
       "      <td>16032.216</td>\n",
       "    </tr>\n",
       "    <tr>\n",
       "      <th>17400</th>\n",
       "      <td>Thailand</td>\n",
       "      <td>THA</td>\n",
       "      <td>2018</td>\n",
       "      <td>16648.623</td>\n",
       "    </tr>\n",
       "  </tbody>\n",
       "</table>\n",
       "<p>75 rows × 4 columns</p>\n",
       "</div>"
      ],
      "text/plain": [
       "         Entity Code  Year  GDPpercapita\n",
       "17326  Thailand  THA  1820       909.000\n",
       "17327  Thailand  THA  1870       969.000\n",
       "17328  Thailand  THA  1890      1250.000\n",
       "17329  Thailand  THA  1913      1341.000\n",
       "17330  Thailand  THA  1929      1264.000\n",
       "...         ...  ...   ...           ...\n",
       "17396  Thailand  THA  2014     14642.000\n",
       "17397  Thailand  THA  2015     15020.000\n",
       "17398  Thailand  THA  2016     15454.000\n",
       "17399  Thailand  THA  2017     16032.216\n",
       "17400  Thailand  THA  2018     16648.623\n",
       "\n",
       "[75 rows x 4 columns]"
      ]
     },
     "execution_count": 240,
     "metadata": {},
     "output_type": "execute_result"
    }
   ],
   "source": [
    "# 10 Countries in AEC\n",
    "#AEC = df.loc[df['Entity'].isin(['Singapore','Indonesia','Thailand','Myanmar','Vietnam','Brunei','Laos','Cambodia','Malaysia','Philippines'])].set_index('Entity') #.reset_index() \n",
    "AEC = df.loc[df['Entity'].isin(['Thailand'])] #.set_index('Entity') #.reset_index() \n",
    "dm = AEC.drop(['Unnamed: 4'], axis=1) #ลบคอลัมน์ Unnamed: 0\n",
    "dm"
   ]
  },
  {
   "cell_type": "code",
   "execution_count": 241,
   "id": "3826fba9",
   "metadata": {},
   "outputs": [
    {
     "data": {
      "text/html": [
       "<div>\n",
       "<style scoped>\n",
       "    .dataframe tbody tr th:only-of-type {\n",
       "        vertical-align: middle;\n",
       "    }\n",
       "\n",
       "    .dataframe tbody tr th {\n",
       "        vertical-align: top;\n",
       "    }\n",
       "\n",
       "    .dataframe thead th {\n",
       "        text-align: right;\n",
       "    }\n",
       "</style>\n",
       "<table border=\"1\" class=\"dataframe\">\n",
       "  <thead>\n",
       "    <tr style=\"text-align: right;\">\n",
       "      <th></th>\n",
       "      <th>Year</th>\n",
       "      <th>GDPpercapita</th>\n",
       "    </tr>\n",
       "  </thead>\n",
       "  <tbody>\n",
       "    <tr>\n",
       "      <th>0</th>\n",
       "      <td>1820</td>\n",
       "      <td>909.000</td>\n",
       "    </tr>\n",
       "    <tr>\n",
       "      <th>1</th>\n",
       "      <td>1870</td>\n",
       "      <td>969.000</td>\n",
       "    </tr>\n",
       "    <tr>\n",
       "      <th>2</th>\n",
       "      <td>1890</td>\n",
       "      <td>1250.000</td>\n",
       "    </tr>\n",
       "    <tr>\n",
       "      <th>3</th>\n",
       "      <td>1913</td>\n",
       "      <td>1341.000</td>\n",
       "    </tr>\n",
       "    <tr>\n",
       "      <th>4</th>\n",
       "      <td>1929</td>\n",
       "      <td>1264.000</td>\n",
       "    </tr>\n",
       "    <tr>\n",
       "      <th>...</th>\n",
       "      <td>...</td>\n",
       "      <td>...</td>\n",
       "    </tr>\n",
       "    <tr>\n",
       "      <th>70</th>\n",
       "      <td>2014</td>\n",
       "      <td>14642.000</td>\n",
       "    </tr>\n",
       "    <tr>\n",
       "      <th>71</th>\n",
       "      <td>2015</td>\n",
       "      <td>15020.000</td>\n",
       "    </tr>\n",
       "    <tr>\n",
       "      <th>72</th>\n",
       "      <td>2016</td>\n",
       "      <td>15454.000</td>\n",
       "    </tr>\n",
       "    <tr>\n",
       "      <th>73</th>\n",
       "      <td>2017</td>\n",
       "      <td>16032.216</td>\n",
       "    </tr>\n",
       "    <tr>\n",
       "      <th>74</th>\n",
       "      <td>2018</td>\n",
       "      <td>16648.623</td>\n",
       "    </tr>\n",
       "  </tbody>\n",
       "</table>\n",
       "<p>75 rows × 2 columns</p>\n",
       "</div>"
      ],
      "text/plain": [
       "    Year  GDPpercapita\n",
       "0   1820       909.000\n",
       "1   1870       969.000\n",
       "2   1890      1250.000\n",
       "3   1913      1341.000\n",
       "4   1929      1264.000\n",
       "..   ...           ...\n",
       "70  2014     14642.000\n",
       "71  2015     15020.000\n",
       "72  2016     15454.000\n",
       "73  2017     16032.216\n",
       "74  2018     16648.623\n",
       "\n",
       "[75 rows x 2 columns]"
      ]
     },
     "execution_count": 241,
     "metadata": {},
     "output_type": "execute_result"
    }
   ],
   "source": [
    "##.loc[:,[...]] ฟังก์ชันใช้เลือกเอาเฉพาะคอลัมน์ที่ต้องการนำมาใช้งาน\n",
    "##.dropna() คำสั่งลบข้อมูล missing คือข้อมูลที่ไม่สมบูรณ์ออก\n",
    "#data1.to_csv('D:/Face Detection/Datanew/data1.csv') #คำสั่งบันทึกไฟล์เก็บไว้เป็นนามสกุล .csv\n",
    "dt = dm.loc[:,['Year','GDPpercapita']].dropna().reset_index() #คำสั่ง .loc ใช้เลือกข้อมูลบางคอลัมน์\n",
    "ds = dt.drop(['index'], axis=1) #ลบคอลัมน์ Unnamed: 0\n",
    "ds"
   ]
  },
  {
   "cell_type": "code",
   "execution_count": 242,
   "id": "52a0e6c7",
   "metadata": {},
   "outputs": [
    {
     "data": {
      "text/plain": [
       "Year            0\n",
       "GDPpercapita    0\n",
       "dtype: int64"
      ]
     },
     "execution_count": 242,
     "metadata": {},
     "output_type": "execute_result"
    }
   ],
   "source": [
    "ds.isnull().sum()"
   ]
  },
  {
   "cell_type": "code",
   "execution_count": 243,
   "id": "fb2f93f9",
   "metadata": {},
   "outputs": [
    {
     "data": {
      "text/html": [
       "<div>\n",
       "<style scoped>\n",
       "    .dataframe tbody tr th:only-of-type {\n",
       "        vertical-align: middle;\n",
       "    }\n",
       "\n",
       "    .dataframe tbody tr th {\n",
       "        vertical-align: top;\n",
       "    }\n",
       "\n",
       "    .dataframe thead th {\n",
       "        text-align: right;\n",
       "    }\n",
       "</style>\n",
       "<table border=\"1\" class=\"dataframe\">\n",
       "  <thead>\n",
       "    <tr style=\"text-align: right;\">\n",
       "      <th></th>\n",
       "      <th>Year</th>\n",
       "      <th>GDPpercapita</th>\n",
       "    </tr>\n",
       "  </thead>\n",
       "  <tbody>\n",
       "    <tr>\n",
       "      <th>Year</th>\n",
       "      <td>1.000000</td>\n",
       "      <td>0.762473</td>\n",
       "    </tr>\n",
       "    <tr>\n",
       "      <th>GDPpercapita</th>\n",
       "      <td>0.762473</td>\n",
       "      <td>1.000000</td>\n",
       "    </tr>\n",
       "  </tbody>\n",
       "</table>\n",
       "</div>"
      ],
      "text/plain": [
       "                  Year  GDPpercapita\n",
       "Year          1.000000      0.762473\n",
       "GDPpercapita  0.762473      1.000000"
      ]
     },
     "execution_count": 243,
     "metadata": {},
     "output_type": "execute_result"
    }
   ],
   "source": [
    "ds.corr()"
   ]
  },
  {
   "cell_type": "code",
   "execution_count": 244,
   "id": "de3ea1f4",
   "metadata": {},
   "outputs": [
    {
     "data": {
      "text/html": [
       "<div>\n",
       "<style scoped>\n",
       "    .dataframe tbody tr th:only-of-type {\n",
       "        vertical-align: middle;\n",
       "    }\n",
       "\n",
       "    .dataframe tbody tr th {\n",
       "        vertical-align: top;\n",
       "    }\n",
       "\n",
       "    .dataframe thead th {\n",
       "        text-align: right;\n",
       "    }\n",
       "</style>\n",
       "<table border=\"1\" class=\"dataframe\">\n",
       "  <thead>\n",
       "    <tr style=\"text-align: right;\">\n",
       "      <th></th>\n",
       "      <th>Year</th>\n",
       "      <th>GDPpercapita</th>\n",
       "    </tr>\n",
       "  </thead>\n",
       "  <tbody>\n",
       "    <tr>\n",
       "      <th>count</th>\n",
       "      <td>75.000000</td>\n",
       "      <td>75.000000</td>\n",
       "    </tr>\n",
       "    <tr>\n",
       "      <th>mean</th>\n",
       "      <td>1976.746667</td>\n",
       "      <td>6173.605608</td>\n",
       "    </tr>\n",
       "    <tr>\n",
       "      <th>std</th>\n",
       "      <td>33.356021</td>\n",
       "      <td>4808.175559</td>\n",
       "    </tr>\n",
       "    <tr>\n",
       "      <th>min</th>\n",
       "      <td>1820.000000</td>\n",
       "      <td>909.000000</td>\n",
       "    </tr>\n",
       "    <tr>\n",
       "      <th>25%</th>\n",
       "      <td>1962.500000</td>\n",
       "      <td>1876.000000</td>\n",
       "    </tr>\n",
       "    <tr>\n",
       "      <th>50%</th>\n",
       "      <td>1981.000000</td>\n",
       "      <td>4230.000000</td>\n",
       "    </tr>\n",
       "    <tr>\n",
       "      <th>75%</th>\n",
       "      <td>1999.500000</td>\n",
       "      <td>10037.913000</td>\n",
       "    </tr>\n",
       "    <tr>\n",
       "      <th>max</th>\n",
       "      <td>2018.000000</td>\n",
       "      <td>16648.623000</td>\n",
       "    </tr>\n",
       "  </tbody>\n",
       "</table>\n",
       "</div>"
      ],
      "text/plain": [
       "              Year  GDPpercapita\n",
       "count    75.000000     75.000000\n",
       "mean   1976.746667   6173.605608\n",
       "std      33.356021   4808.175559\n",
       "min    1820.000000    909.000000\n",
       "25%    1962.500000   1876.000000\n",
       "50%    1981.000000   4230.000000\n",
       "75%    1999.500000  10037.913000\n",
       "max    2018.000000  16648.623000"
      ]
     },
     "execution_count": 244,
     "metadata": {},
     "output_type": "execute_result"
    }
   ],
   "source": [
    "ds.describe()"
   ]
  },
  {
   "cell_type": "code",
   "execution_count": 245,
   "id": "c556611c",
   "metadata": {},
   "outputs": [
    {
     "name": "stderr",
     "output_type": "stream",
     "text": [
      "c:\\Users\\Taechatuch\\anaconda3\\envs\\mydata\\lib\\site-packages\\seaborn\\_decorators.py:36: FutureWarning: Pass the following variables as keyword args: x, y. From version 0.12, the only valid positional argument will be `data`, and passing other arguments without an explicit keyword will result in an error or misinterpretation.\n",
      "  warnings.warn(\n"
     ]
    },
    {
     "data": {
      "image/png": "[encoded data removed]",
      "text/plain": [
       "<Figure size 1080x216 with 1 Axes>"
      ]
     },
     "metadata": {
      "image/png": {
       "height": 222,
       "width": 899
      },
      "needs_background": "light"
     },
     "output_type": "display_data"
    }
   ],
   "source": [
    "plt.figure(figsize=(15,3))\n",
    "sns.lineplot(ds.Year, 'GDPpercapita', data=ds, marker='o', markersize=10)\n",
    "plt.title('GDP per capita')\n",
    "plt.show()"
   ]
  },
  {
   "cell_type": "code",
   "execution_count": 246,
   "id": "983bc3db",
   "metadata": {},
   "outputs": [
    {
     "data": {
      "text/plain": [
       "<Figure size 1152x648 with 0 Axes>"
      ]
     },
     "metadata": {},
     "output_type": "display_data"
    },
    {
     "data": {
      "image/png": "[encoded data removed]",
      "text/plain": [
       "<Figure size 360x360 with 1 Axes>"
      ]
     },
     "metadata": {
      "image/png": {
       "height": 353,
       "width": 353
      },
      "needs_background": "light"
     },
     "output_type": "display_data"
    }
   ],
   "source": [
    "plt.figure(figsize=(16, 9))\n",
    "sns.lmplot(x='Year', y='GDPpercapita', data=ds, ci=None);"
   ]
  },
  {
   "cell_type": "code",
   "execution_count": 247,
   "id": "3eb236c5",
   "metadata": {},
   "outputs": [
    {
     "name": "stdout",
     "output_type": "stream",
     "text": [
      "ข้อมูล X:\n",
      " [[1820]\n",
      " [1870]\n",
      " [1890]\n",
      " [1913]\n",
      " [1929]\n",
      " [1938]\n",
      " [1950]\n",
      " [1951]\n",
      " [1952]\n",
      " [1953]\n",
      " [1954]\n",
      " [1955]\n",
      " [1956]\n",
      " [1957]\n",
      " [1958]\n",
      " [1959]\n",
      " [1960]\n",
      " [1961]\n",
      " [1962]\n",
      " [1963]\n",
      " [1964]\n",
      " [1965]\n",
      " [1966]\n",
      " [1967]\n",
      " [1968]\n",
      " [1969]\n",
      " [1970]\n",
      " [1971]\n",
      " [1972]\n",
      " [1973]\n",
      " [1974]\n",
      " [1975]\n",
      " [1976]\n",
      " [1977]\n",
      " [1978]\n",
      " [1979]\n",
      " [1980]\n",
      " [1981]\n",
      " [1982]\n",
      " [1983]\n",
      " [1984]\n",
      " [1985]\n",
      " [1986]\n",
      " [1987]\n",
      " [1988]\n",
      " [1989]\n",
      " [1990]\n",
      " [1991]\n",
      " [1992]\n",
      " [1993]\n",
      " [1994]\n",
      " [1995]\n",
      " [1996]\n",
      " [1997]\n",
      " [1998]\n",
      " [1999]\n",
      " [2000]\n",
      " [2001]\n",
      " [2002]\n",
      " [2003]\n",
      " [2004]\n",
      " [2005]\n",
      " [2006]\n",
      " [2007]\n",
      " [2008]\n",
      " [2009]\n",
      " [2010]\n",
      " [2011]\n",
      " [2012]\n",
      " [2013]\n",
      " [2014]\n",
      " [2015]\n",
      " [2016]\n",
      " [2017]\n",
      " [2018]] ข้อมูล y:\n",
      " [  909.       969.      1250.      1341.      1264.      1317.\n",
      "  1302.      1353.      1385.      1490.      1431.      1506.\n",
      "  1482.      1451.      1457.      1581.      1718.      1753.\n",
      "  1831.      1921.      1991.      2085.      2251.      2369.\n",
      "  2488.      2608.      2700.      2750.      2786.      2987.\n",
      "  3045.      3123.      3333.      3585.      3861.      3979.\n",
      "  4071.      4230.      4375.      4538.      4720.      4862.\n",
      "  5053.      5453.      6089.      6735.      7385.      7849.7446\n",
      "  8409.0205  8964.292   9499.518  10080.208  10458.358   9995.618\n",
      "  9077.748   9347.061   9627.1045  9818.721  10276.398  10868.836\n",
      " 11408.326  11742.128  12180.711  12694.715  12768.129  12543.398\n",
      " 13343.547  13318.     14227.     14562.     14642.     15020.\n",
      " 15454.     16032.216  16648.623 ]\n"
     ]
    }
   ],
   "source": [
    "X = ds.iloc[:,:-1].values \n",
    "y = ds.iloc[:,-1].values \n",
    "\n",
    "print('ข้อมูล X:\\n', X, 'ข้อมูล y:\\n', y)"
   ]
  },
  {
   "cell_type": "code",
   "execution_count": 248,
   "id": "b854681d",
   "metadata": {},
   "outputs": [],
   "source": [
    "from sklearn.model_selection import train_test_split\n",
    "X_train, X_test, y_train, y_test = train_test_split(X, y, test_size=0.3, random_state=48)"
   ]
  },
  {
   "cell_type": "code",
   "execution_count": 249,
   "id": "3d5aea73",
   "metadata": {},
   "outputs": [
    {
     "data": {
      "text/plain": [
       "array([ 4093.30799182,  9279.79381133,  6845.32087564,  3881.61469306,\n",
       "        4834.23453746,  2399.76160177,  6527.78092751,  8327.17396693,\n",
       "        4516.69458933,  7057.01417439,  5151.77448559,  3987.46134244,\n",
       "        7374.55412253,  5045.92783622, -4797.81055592, 10020.72035697,\n",
       "        6421.93427813,  5469.31443373,  9385.64046071,  4199.15464119,\n",
       "        8009.63401879,  5575.1610831 , 10867.493552  ])"
      ]
     },
     "execution_count": 249,
     "metadata": {},
     "output_type": "execute_result"
    }
   ],
   "source": [
    "import sklearn\n",
    "from sklearn.metrics import r2_score, mean_absolute_error, mean_squared_error\n",
    "from sklearn.linear_model import LinearRegression\n",
    "from sklearn.preprocessing import PolynomialFeatures\n",
    "\n",
    "poly_features = PolynomialFeatures(degree=2)\n",
    "x_poly = poly_features.fit_transform(X)\n",
    "model = LinearRegression()\n",
    "model.fit(X_train, y_train)\n",
    "y_predict = model.predict(X_test)\n",
    "y_predict "
   ]
  },
  {
   "cell_type": "code",
   "execution_count": 250,
   "id": "5632c2f7",
   "metadata": {},
   "outputs": [
    {
     "data": {
      "text/plain": [
       "array([[ 4093.30799182],\n",
       "       [ 9279.79381133],\n",
       "       [ 6845.32087564],\n",
       "       [ 3881.61469306],\n",
       "       [ 4834.23453746],\n",
       "       [ 2399.76160177],\n",
       "       [ 6527.78092751],\n",
       "       [ 8327.17396693],\n",
       "       [ 4516.69458933],\n",
       "       [ 7057.01417439],\n",
       "       [ 5151.77448559],\n",
       "       [ 3987.46134244],\n",
       "       [ 7374.55412253],\n",
       "       [ 5045.92783622],\n",
       "       [-4797.81055592],\n",
       "       [10020.72035697],\n",
       "       [ 6421.93427813],\n",
       "       [ 5469.31443373],\n",
       "       [ 9385.64046071],\n",
       "       [ 4199.15464119],\n",
       "       [ 8009.63401879],\n",
       "       [ 5575.1610831 ],\n",
       "       [10867.493552  ]])"
      ]
     },
     "execution_count": 250,
     "metadata": {},
     "output_type": "execute_result"
    }
   ],
   "source": [
    "y_predict.reshape(-1, 1)"
   ]
  },
  {
   "cell_type": "code",
   "execution_count": 251,
   "id": "2a9e9f34",
   "metadata": {},
   "outputs": [
    {
     "data": {
      "text/html": [
       "<div>\n",
       "<style scoped>\n",
       "    .dataframe tbody tr th:only-of-type {\n",
       "        vertical-align: middle;\n",
       "    }\n",
       "\n",
       "    .dataframe tbody tr th {\n",
       "        vertical-align: top;\n",
       "    }\n",
       "\n",
       "    .dataframe thead th {\n",
       "        text-align: right;\n",
       "    }\n",
       "</style>\n",
       "<table border=\"1\" class=\"dataframe\">\n",
       "  <thead>\n",
       "    <tr style=\"text-align: right;\">\n",
       "      <th></th>\n",
       "      <th>Year</th>\n",
       "      <th>GDPpercapita</th>\n",
       "    </tr>\n",
       "  </thead>\n",
       "  <tbody>\n",
       "    <tr>\n",
       "      <th>0</th>\n",
       "      <td>1820</td>\n",
       "      <td>909.000</td>\n",
       "    </tr>\n",
       "    <tr>\n",
       "      <th>1</th>\n",
       "      <td>1870</td>\n",
       "      <td>969.000</td>\n",
       "    </tr>\n",
       "    <tr>\n",
       "      <th>2</th>\n",
       "      <td>1890</td>\n",
       "      <td>1250.000</td>\n",
       "    </tr>\n",
       "    <tr>\n",
       "      <th>3</th>\n",
       "      <td>1913</td>\n",
       "      <td>1341.000</td>\n",
       "    </tr>\n",
       "    <tr>\n",
       "      <th>4</th>\n",
       "      <td>1929</td>\n",
       "      <td>1264.000</td>\n",
       "    </tr>\n",
       "    <tr>\n",
       "      <th>...</th>\n",
       "      <td>...</td>\n",
       "      <td>...</td>\n",
       "    </tr>\n",
       "    <tr>\n",
       "      <th>70</th>\n",
       "      <td>2014</td>\n",
       "      <td>14642.000</td>\n",
       "    </tr>\n",
       "    <tr>\n",
       "      <th>71</th>\n",
       "      <td>2015</td>\n",
       "      <td>15020.000</td>\n",
       "    </tr>\n",
       "    <tr>\n",
       "      <th>72</th>\n",
       "      <td>2016</td>\n",
       "      <td>15454.000</td>\n",
       "    </tr>\n",
       "    <tr>\n",
       "      <th>73</th>\n",
       "      <td>2017</td>\n",
       "      <td>16032.216</td>\n",
       "    </tr>\n",
       "    <tr>\n",
       "      <th>74</th>\n",
       "      <td>2018</td>\n",
       "      <td>16648.623</td>\n",
       "    </tr>\n",
       "  </tbody>\n",
       "</table>\n",
       "<p>75 rows × 2 columns</p>\n",
       "</div>"
      ],
      "text/plain": [
       "    Year  GDPpercapita\n",
       "0   1820       909.000\n",
       "1   1870       969.000\n",
       "2   1890      1250.000\n",
       "3   1913      1341.000\n",
       "4   1929      1264.000\n",
       "..   ...           ...\n",
       "70  2014     14642.000\n",
       "71  2015     15020.000\n",
       "72  2016     15454.000\n",
       "73  2017     16032.216\n",
       "74  2018     16648.623\n",
       "\n",
       "[75 rows x 2 columns]"
      ]
     },
     "execution_count": 251,
     "metadata": {},
     "output_type": "execute_result"
    }
   ],
   "source": [
    "ds"
   ]
  },
  {
   "cell_type": "code",
   "execution_count": 252,
   "id": "1edb0dd3",
   "metadata": {},
   "outputs": [
    {
     "name": "stdout",
     "output_type": "stream",
     "text": [
      "การพยากรณ์ GDP ต่อหัว:  [10867.49]\n"
     ]
    }
   ],
   "source": [
    "#การพยากรณ์ GDP ต่อหัว\n",
    "pred = model.predict([[2018]]).round(2)\n",
    "print('การพยากรณ์ GDP ต่อหัว: ', pred)"
   ]
  },
  {
   "cell_type": "code",
   "execution_count": 253,
   "id": "a694f401",
   "metadata": {},
   "outputs": [],
   "source": [
    "Year = float(input(\"กรอกข้อมูลปีเพื่อพยากรณ์ GDP ต่อหัว: \"))"
   ]
  },
  {
   "cell_type": "code",
   "execution_count": 254,
   "id": "166073ea",
   "metadata": {},
   "outputs": [
    {
     "name": "stdout",
     "output_type": "stream",
     "text": [
      "การพยากรณ์ GDP ต่อหัว เท่ากับ: [10867.49] บาท\n"
     ]
    }
   ],
   "source": [
    "result = model.predict([[Year]])\n",
    "print(\"การพยากรณ์ GDP ต่อหัว เท่ากับ:\", result.round(2), 'บาท')"
   ]
  },
  {
   "attachments": {},
   "cell_type": "markdown",
   "id": "9e6063f9",
   "metadata": {},
   "source": [
    "การประเมินโมเดล Regression มี 4 แบบ ดังนี้ \n",
    "1) Mean Absolute Error (MAE) การหาผลรวมระยะคลาดเคลื่อน คือหาว่าโมเดลมีความแม่นยำในการพยากรณ์มากน้อยเพียงใด ถ้า MAE มีค่าน้อยแสดงว่าคลาดเคลื่อนน้อย หมายความว่าโมเดลมีความแม่นยำสูง แต่ถ้าค่า MAE มาก แสดงว่าโมเดลมีความคลาดเคลื่อนมาก คือโมเดลมีความแม่นยำน้อย \n",
    "2) Mean Squared Error (MSE) การหาผลรวมระยะคลาดเคลื่อนด้วยวิธียกกำลังสอง การแปลผลเหมือนกับข้อ 1\n",
    "3) Root Mean Squared Error (RMSE) การหาผลรวมระยะคลาดเคลื่อนด้วยวิธีการถอดรูทรากที่สอง การแปลผลเหมือนกับข้อ 1\n",
    "4) Coefficients of Determination การหาค่าสัมประสิทธิ์การตัดสินใจ หรือ R square (R2) มีค่าระหว่าง 0 - 1 ถ้าค่าเข้าใกล้ 1 หรือเท่ากับ 1 แสดงว่าโมเดลมีความแม่นยำสูง แต่ถ้าค่าเข้าใกล้ 0 แสดงว่าโมเดลมีความแม่นยำต่ำ"
   ]
  },
  {
   "cell_type": "code",
   "execution_count": 255,
   "id": "b661dec6",
   "metadata": {},
   "outputs": [
    {
     "name": "stdout",
     "output_type": "stream",
     "text": [
      "ผลรวมระยะคลาดเคลื่อนเท่ากับ 2776.6\n",
      "ผลรวมระยะคลาดเคลื่อนด้วยวิธียกกำลังสองเท่ากับ 9168570.48\n",
      "ผลรวมระยะคลาดเคลื่อนด้วยวิธีการถอดรูทรากที่สองเท่ากับ 3027.96\n",
      "การหาค่าสัมประสิทธิ์การตัดสินใจ หรือ R square (R2) เท่ากับ 0.57005\n",
      "การหาค่าสัมประสิทธิ์การตัดสินใจ หรือ R square (R2) เท่ากับ 0.57587\n"
     ]
    }
   ],
   "source": [
    "import numpy as np\n",
    "from sklearn.metrics import mean_squared_error, mean_absolute_error, r2_score\n",
    "\n",
    "print('ผลรวมระยะคลาดเคลื่อนเท่ากับ', mean_absolute_error(y_test, y_predict).round(2))\n",
    "print('ผลรวมระยะคลาดเคลื่อนด้วยวิธียกกำลังสองเท่ากับ', mean_squared_error(y_test, y_predict).round(2))\n",
    "print('ผลรวมระยะคลาดเคลื่อนด้วยวิธีการถอดรูทรากที่สองเท่ากับ', np.sqrt(mean_squared_error(y_test, y_predict)).round(2))\n",
    "print('การหาค่าสัมประสิทธิ์การตัดสินใจ หรือ R square (R2) เท่ากับ', model.score(X_train, y_train).round(5))\n",
    "print('การหาค่าสัมประสิทธิ์การตัดสินใจ หรือ R square (R2) เท่ากับ', model.score(X, y).round(5))"
   ]
  },
  {
   "attachments": {},
   "cell_type": "markdown",
   "id": "5d61eb3c",
   "metadata": {},
   "source": [
    "การวิเคราะห์ Polynimail อีกวิธีหนึ่ง"
   ]
  },
  {
   "cell_type": "code",
   "execution_count": 256,
   "id": "b8559341",
   "metadata": {},
   "outputs": [
    {
     "data": {
      "image/png": "[encoded data removed]",
      "text/plain": [
       "<Figure size 432x288 with 1 Axes>"
      ]
     },
     "metadata": {
      "image/png": {
       "height": 276,
       "width": 409
      },
      "needs_background": "light"
     },
     "output_type": "display_data"
    }
   ],
   "source": [
    "# Fitting Linear Regression to the dataset\n",
    "from sklearn.linear_model import LinearRegression\n",
    "lin_reg = LinearRegression()\n",
    "lin_reg.fit(X, y)\n",
    "\n",
    "# Visualizing the Linear Regression results\n",
    "def viz_linear():\n",
    "    plt.scatter(X, y, color='red')\n",
    "    plt.plot(X, lin_reg.predict(X), color='blue')\n",
    "    plt.title('Truth or Bluff (Linear Regression)')\n",
    "    plt.xlabel('Year')\n",
    "    plt.ylabel('GDP per capita')\n",
    "    plt.show()\n",
    "    return\n",
    "viz_linear()"
   ]
  },
  {
   "cell_type": "code",
   "execution_count": 257,
   "id": "f472ccb5",
   "metadata": {},
   "outputs": [
    {
     "data": {
      "image/png": "[encoded data removed]",
      "text/plain": [
       "<Figure size 432x288 with 1 Axes>"
      ]
     },
     "metadata": {
      "image/png": {
       "height": 276,
       "width": 404
      },
      "needs_background": "light"
     },
     "output_type": "display_data"
    }
   ],
   "source": [
    "# Fitting Polynomial Regression to the dataset\n",
    "from sklearn.preprocessing import PolynomialFeatures\n",
    "poly_reg = PolynomialFeatures(degree=4)\n",
    "X_poly = poly_reg.fit_transform(X)\n",
    "pol_reg = LinearRegression()\n",
    "pol_reg.fit(X_poly, y)\n",
    "\n",
    "# Visualizing the Polymonial Regression results\n",
    "def viz_polymonial():\n",
    "    plt.scatter(X, y, color='red')\n",
    "    plt.plot(X, pol_reg.predict(poly_reg.fit_transform(X)), color='blue')\n",
    "    plt.title('Truth or Bluff (Linear Regression)')\n",
    "    plt.xlabel('Year')\n",
    "    plt.ylabel('GDP per capita')\n",
    "    plt.show()\n",
    "    return\n",
    "viz_polymonial()"
   ]
  },
  {
   "cell_type": "code",
   "execution_count": 258,
   "id": "67ad65f9",
   "metadata": {},
   "outputs": [
    {
     "data": {
      "text/html": [
       "<div>\n",
       "<style scoped>\n",
       "    .dataframe tbody tr th:only-of-type {\n",
       "        vertical-align: middle;\n",
       "    }\n",
       "\n",
       "    .dataframe tbody tr th {\n",
       "        vertical-align: top;\n",
       "    }\n",
       "\n",
       "    .dataframe thead th {\n",
       "        text-align: right;\n",
       "    }\n",
       "</style>\n",
       "<table border=\"1\" class=\"dataframe\">\n",
       "  <thead>\n",
       "    <tr style=\"text-align: right;\">\n",
       "      <th></th>\n",
       "      <th>Year</th>\n",
       "      <th>GDPpercapita</th>\n",
       "    </tr>\n",
       "  </thead>\n",
       "  <tbody>\n",
       "    <tr>\n",
       "      <th>0</th>\n",
       "      <td>1820</td>\n",
       "      <td>909.000</td>\n",
       "    </tr>\n",
       "    <tr>\n",
       "      <th>1</th>\n",
       "      <td>1870</td>\n",
       "      <td>969.000</td>\n",
       "    </tr>\n",
       "    <tr>\n",
       "      <th>2</th>\n",
       "      <td>1890</td>\n",
       "      <td>1250.000</td>\n",
       "    </tr>\n",
       "    <tr>\n",
       "      <th>3</th>\n",
       "      <td>1913</td>\n",
       "      <td>1341.000</td>\n",
       "    </tr>\n",
       "    <tr>\n",
       "      <th>4</th>\n",
       "      <td>1929</td>\n",
       "      <td>1264.000</td>\n",
       "    </tr>\n",
       "    <tr>\n",
       "      <th>...</th>\n",
       "      <td>...</td>\n",
       "      <td>...</td>\n",
       "    </tr>\n",
       "    <tr>\n",
       "      <th>70</th>\n",
       "      <td>2014</td>\n",
       "      <td>14642.000</td>\n",
       "    </tr>\n",
       "    <tr>\n",
       "      <th>71</th>\n",
       "      <td>2015</td>\n",
       "      <td>15020.000</td>\n",
       "    </tr>\n",
       "    <tr>\n",
       "      <th>72</th>\n",
       "      <td>2016</td>\n",
       "      <td>15454.000</td>\n",
       "    </tr>\n",
       "    <tr>\n",
       "      <th>73</th>\n",
       "      <td>2017</td>\n",
       "      <td>16032.216</td>\n",
       "    </tr>\n",
       "    <tr>\n",
       "      <th>74</th>\n",
       "      <td>2018</td>\n",
       "      <td>16648.623</td>\n",
       "    </tr>\n",
       "  </tbody>\n",
       "</table>\n",
       "<p>75 rows × 2 columns</p>\n",
       "</div>"
      ],
      "text/plain": [
       "    Year  GDPpercapita\n",
       "0   1820       909.000\n",
       "1   1870       969.000\n",
       "2   1890      1250.000\n",
       "3   1913      1341.000\n",
       "4   1929      1264.000\n",
       "..   ...           ...\n",
       "70  2014     14642.000\n",
       "71  2015     15020.000\n",
       "72  2016     15454.000\n",
       "73  2017     16032.216\n",
       "74  2018     16648.623\n",
       "\n",
       "[75 rows x 2 columns]"
      ]
     },
     "execution_count": 258,
     "metadata": {},
     "output_type": "execute_result"
    }
   ],
   "source": [
    "ds"
   ]
  },
  {
   "cell_type": "code",
   "execution_count": 259,
   "id": "52086b0c",
   "metadata": {},
   "outputs": [
    {
     "data": {
      "text/plain": [
       "array([10707.69])"
      ]
     },
     "execution_count": 259,
     "metadata": {},
     "output_type": "execute_result"
    }
   ],
   "source": [
    "# Predicting a new result with Linear Regression\n",
    "lin_reg.predict([[2018]]).round(2)\n",
    "#output should be 249500"
   ]
  },
  {
   "cell_type": "code",
   "execution_count": 260,
   "id": "96c79bef",
   "metadata": {},
   "outputs": [
    {
     "data": {
      "text/plain": [
       "array([16787.38])"
      ]
     },
     "execution_count": 260,
     "metadata": {},
     "output_type": "execute_result"
    }
   ],
   "source": [
    "# Predicting a new result with Polymonial Regression\n",
    "pol_reg.predict(poly_reg.fit_transform([[2018]])).round(2)\n",
    "#output should be 132148.43750003"
   ]
  },
  {
   "cell_type": "code",
   "execution_count": 261,
   "id": "7ce3ef12",
   "metadata": {},
   "outputs": [
    {
     "data": {
      "text/plain": [
       "array([19185.86, 19690.98, 20204.75, 20727.23, 21258.49, 21798.62])"
      ]
     },
     "execution_count": 261,
     "metadata": {},
     "output_type": "execute_result"
    }
   ],
   "source": [
    "# Predicting a new result with Polymonial Regression\n",
    "pol_reg.predict(poly_reg.fit_transform([[2023],[2024],[2025],[2026],[2027],[2028]])).round(2)\n",
    "#output should be 132148.43750003"
   ]
  },
  {
   "cell_type": "code",
   "execution_count": 231,
   "id": "30abc604",
   "metadata": {},
   "outputs": [],
   "source": [
    "GDPpercapita = float(input(\"กรอกข้อมูลเพื่อพยากรณ์ GDP ต่อหัว: \"))"
   ]
  },
  {
   "cell_type": "code",
   "execution_count": 262,
   "id": "87972bcb",
   "metadata": {},
   "outputs": [
    {
     "name": "stdout",
     "output_type": "stream",
     "text": [
      "การพยากรณ์ GDP ต่อหัว: [16787.38] บาท\n"
     ]
    }
   ],
   "source": [
    "result = pol_reg.predict(poly_reg.fit_transform([[GDPpercapita]]))\n",
    "print(\"การพยากรณ์ GDP ต่อหัว:\", result.round(2), 'บาท')"
   ]
  },
  {
   "cell_type": "code",
   "execution_count": 263,
   "id": "04a96017",
   "metadata": {},
   "outputs": [],
   "source": [
    "#conda install -c anaconda scikit-learn\n",
    "#pip install -U scikit-learn\n",
    "#from sklearn.externals import joblib\n",
    "import numpy as np\n",
    "import joblib\n",
    "\n",
    "joblib.dump(pol_reg, 'GDP_model.pkl')\n",
    "model = joblib.load('GDP_model.pkl')"
   ]
  }
 ],
 "metadata": {
  "kernelspec": {
   "display_name": "mydata",
   "language": "python",
   "name": "python3"
  },
  "language_info": {
   "codemirror_mode": {
    "name": "ipython",
    "version": 3
   },
   "file_extension": ".py",
   "mimetype": "text/x-python",
   "name": "python",
   "nbconvert_exporter": "python",
   "pygments_lexer": "ipython3",
   "version": "3.9.12 (main, Apr  4 2022, 05:22:27) [MSC v.1916 64 bit (AMD64)]"
  },
  "vscode": {
   "interpreter": {
    "hash": "a1073448a4303f3a64360580775bcb237337e84aa62eeb3628dfc2ca6b3ee4b2"
   }
  }
 },
 "nbformat": 4,
 "nbformat_minor": 5
}
